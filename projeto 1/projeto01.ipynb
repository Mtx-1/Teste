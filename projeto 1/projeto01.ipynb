{
 "cells": [
  {
   "cell_type": "code",
   "execution_count": 3,
   "metadata": {},
   "outputs": [
    {
     "name": "stdout",
     "output_type": "stream",
     "text": [
      "Orçamento gerado com sucesso!\n"
     ]
    }
   ],
   "source": [
    "from fpdf import FPDF\n",
    "\n",
    "projeto = input('digite a descrição do projeto: ')\n",
    "horas_previtas = input('digite a quantidade de horas previstas: ')\n",
    "valor_hora = input('digite o valor da hora trabalhada: ')\n",
    "prazo = input('digite o prazo trabalhado: ')\n",
    "\n",
    "valor_total = int(horas_previtas) * int(valor_hora)\n",
    "\n",
    "pdf = FPDF()\n",
    "\n",
    "pdf.add_page()\n",
    "pdf.set_font('Arial')\n",
    "\n",
    "pdf.image('foto.png', x=0, y=0)\n",
    "\n",
    "pdf.text(115, 145, 'Sistema Python')\n",
    "pdf.text(115, 160, horas_previtas)\n",
    "pdf.text(115, 175, valor_hora)\n",
    "pdf.text(115, 190, prazo)\n",
    "pdf.text(115, 205, str(valor_total))\n",
    "\n",
    "pdf.output('Orçamento.pdf')\n",
    "print('Orçamento gerado com sucesso!')"
   ]
  }
 ],
 "metadata": {
  "kernelspec": {
   "display_name": "Python 3",
   "language": "python",
   "name": "python3"
  },
  "language_info": {
   "codemirror_mode": {
    "name": "ipython",
    "version": 3
   },
   "file_extension": ".py",
   "mimetype": "text/x-python",
   "name": "python",
   "nbconvert_exporter": "python",
   "pygments_lexer": "ipython3",
   "version": "3.12.3"
  }
 },
 "nbformat": 4,
 "nbformat_minor": 2
}
